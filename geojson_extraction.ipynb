{
 "cells": [
  {
   "cell_type": "markdown",
   "metadata": {},
   "source": [
    "Calling a JSON API\n",
    "\n",
    "In this assignment you will write a Python program somewhat similar to http://www.py4e.com/code3/geojson.py. The program will prompt for a location, contact a web service and retrieve JSON for the web service and parse that data, and retrieve the first place_id from the JSON. A place ID is a textual identifier that uniquely identifies a place as within Google Maps.\n",
    "API End Points\n",
    "\n",
    "To complete this assignment, you should use this API endpoint that has a static subset of the Google Data:\n",
    "\n",
    "http://py4e-data.dr-chuck.net/json?\n",
    "This API uses the same parameter (address) as the Google API. This API also has no rate limit so you can test as often as you like. If you visit the URL with no parameters, you get \"No address...\" response.\n",
    "To call the API, you need to include a key= parameter and provide the address that you are requesting as the address= parameter that is properly URL encoded using the urllib.parse.urlencode() function as shown in http://www.py4e.com/code3/geojson.py\n",
    "\n",
    "Make sure to check that your code is using the API endpoint as shown above. You will get different results from the geojson and json endpoints so make sure you are using the same end point as this autograder is using.\n",
    "\n",
    "Test Data / Sample Execution\n",
    "\n",
    "You can test to see if your program is working with a location of \"South Federal University\" which will have a place_id of \"ChIJNeHD4p-540AR2Q0_ZjwmKJ8\".\n",
    "\n",
    "$ python3 solution.py\n",
    "Enter location: South Federal University\n",
    "Retrieving http://...\n",
    "Retrieved 6052 characters\n",
    "Place id ChIJNeHD4p-540AR2Q0_ZjwmKJ8\n",
    "Turn In\n",
    "\n",
    "Please run your program to find the place_id for this location:\n",
    "\n",
    "University of Missouri - Columbia\n",
    "Make sure to enter the name and case exactly as above and enter the place_id and your Python code below. Hint: The first seven characters of the place"
   ]
  },
  {
   "cell_type": "code",
   "execution_count": 6,
   "metadata": {},
   "outputs": [
    {
     "name": "stdout",
     "output_type": "stream",
     "text": [
      "Retreiving http://py4e-data.dr-chuck.net/json?key=42&address=University+of+Missouri+-+Columbia\n",
      "Retrieved 2277 characters\n",
      "ChIJOYftBZW33IcRSPsHnDIFg8E\n"
     ]
    }
   ],
   "source": [
    "import json\n",
    "import urllib.request,urllib.parse,urllib.error\n",
    "\n",
    "api_key = 42\n",
    "api_endpoint = \"http://py4e-data.dr-chuck.net/json?\"\n",
    "\n",
    "#prompt the user to enter location\n",
    "\n",
    "location = input(\"Enter location: \")\n",
    "\n",
    "#Encode the location for the url\n",
    "params = {\"key\":api_key,\"address\":location}\n",
    "url = api_endpoint+ urllib.parse.urlencode(params)\n",
    "\n",
    "# Retrieve the json data from the api\n",
    "print(f\"Retreiving {url}\")\n",
    "\n",
    "data = urllib.request.urlopen(url).read()\n",
    "\n",
    "print(f\"Retrieved {len(data)} characters\")\n",
    "\n",
    "try:\n",
    "    js = json.loads(data)\n",
    "except:\n",
    "    js = None\n",
    "\n",
    "if not js or 'status' not in js or js['status'] != 'OK':\n",
    "    print(\"==== Failure to Retrieve ====\")\n",
    "    print(data)\n",
    "\n",
    "\n",
    "place_id = js['results'][0]['place_id']\n",
    "\n",
    "print(place_id)\n",
    "\n",
    "\n",
    "\n",
    "\n"
   ]
  }
 ],
 "metadata": {
  "kernelspec": {
   "display_name": "TestEnv",
   "language": "python",
   "name": "testenv"
  },
  "language_info": {
   "codemirror_mode": {
    "name": "ipython",
    "version": 3
   },
   "file_extension": ".py",
   "mimetype": "text/x-python",
   "name": "python",
   "nbconvert_exporter": "python",
   "pygments_lexer": "ipython3",
   "version": "3.7.13"
  }
 },
 "nbformat": 4,
 "nbformat_minor": 2
}
