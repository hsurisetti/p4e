{
 "cells": [
  {
   "cell_type": "markdown",
   "metadata": {},
   "source": [
    "Extracting Data from JSON\n",
    "\n",
    "In this assignment you will write a Python program somewhat similar to http://www.py4e.com/code3/json2.py. The program will prompt for a URL, read the JSON data from that URL using urllib and then parse and extract the comment counts from the JSON data, compute the sum of the numbers in the file and enter the sum below:\n",
    "\n",
    "We provide two files for this assignment. One is a sample file where we give you the sum for your testing and the other is the actual data you need to process for the assignment.\n",
    "\n",
    "Sample data: http://py4e-data.dr-chuck.net/comments_42.json (Sum=2553)\n",
    "Actual data: http://py4e-data.dr-chuck.net/comments_1940639.json (Sum ends with 1)"
   ]
  },
  {
   "cell_type": "code",
   "execution_count": 8,
   "metadata": {},
   "outputs": [
    {
     "name": "stdout",
     "output_type": "stream",
     "text": [
      "Retreived 2737 characters\n",
      "count : 50\n",
      "Sum: 2501\n"
     ]
    }
   ],
   "source": [
    "from urllib.request import urlopen\n",
    "import json\n",
    "import ssl\n",
    "\n",
    "#Sample data: http://py4e-data.dr-chuck.net/comments_42.json (Sum=2553)\n",
    "#Actual data: http://py4e-data.dr-chuck.net/comments_1940639.json (Sum ends with 1)\n",
    "\n",
    "\n",
    "#Ignore ssl certificate errors\n",
    "ctx = ssl.create_default_context()\n",
    "ctx.check_hostname = False\n",
    "ctx.verify_mode = ssl.CERT_NONE\n",
    "\n",
    "url = input(\"Enter URL :\")\n",
    "data = urlopen(url,context = ctx).read()\n",
    "\n",
    "print('Retreived',len(data),'characters')\n",
    "\n",
    "\n",
    "#parse the json data\n",
    "try:\n",
    "    js = json.loads(data)\n",
    "except:\n",
    "    js= None\n",
    "\n",
    "if js is None or 'comments' not in js:\n",
    "    print(\"Failed to reteive or parse the document\")\n",
    "else:\n",
    "\n",
    "    #extract comment counts\n",
    "    comments = js['comments']\n",
    "\n",
    "    # calculate the count & sum\n",
    "    count = len(comments)\n",
    "    total_sum = sum(comment['count'] for comment in comments)\n",
    "\n",
    "    print(f\"count : {count}\")\n",
    "    print(f\"Sum: {total_sum}\")\n",
    "\n"
   ]
  }
 ],
 "metadata": {
  "kernelspec": {
   "display_name": "TestEnv",
   "language": "python",
   "name": "testenv"
  },
  "language_info": {
   "codemirror_mode": {
    "name": "ipython",
    "version": 3
   },
   "file_extension": ".py",
   "mimetype": "text/x-python",
   "name": "python",
   "nbconvert_exporter": "python",
   "pygments_lexer": "ipython3",
   "version": "3.7.13"
  }
 },
 "nbformat": 4,
 "nbformat_minor": 2
}
